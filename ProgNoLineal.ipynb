{
  "cells": [
    {
      "cell_type": "markdown",
      "metadata": {
        "id": "QEdc0FOCKbxb"
      },
      "source": [
        "Una empresa fabrica dos productos A y B en dos máquinas. Todo lo que se fabrica se vende en el mercado, ya que el mercado para el producto es bueno. Las capacidades de las máquinas están limitadas a producir diariamente 80 unidades del producto A y 60 unidades del producto B. El suministro de materia prima requerida para el producto está limitado a producir 600 unidades por día. La mano de obra requerida es de 160 días/hombre y la organización cuenta con 160 hombres en planta. La producción de A requiere una hora-día de trabajo y la del producto B es de 2 horas por día/hombre. El objetivo de la empresa es maximizar el beneficio total si las relaciones precio de venta son las que se indican a continuación.![WhatsApp Image 2024-02-24 at 20.49.59.jpeg](data:image/jpeg;base64,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)\n",
        "\n",
        "#Funcion Objetiva\n",
        "Maximizar Z = R - C = 100a + 0.3a²+80b-0.2b²\n",
        "\n",
        "#Reestricciones\n",
        "\n",
        "Capacidades de producción de las máquinas: a≤80 , b≤60.\n",
        "Suministro de materia prima: a+b≤600.\n",
        "Requerimientos laborales: a+2b≤160 (ya que la producción de A requiere un hombre-día de trabajo y la de B requiere dos).\n",
        "Demanda del mercado, que define a y b como funciones del precio:\n",
        "a=1500−5*P1\n",
        "b=3800−10*P2\n",
        "\n",
        "#Variables de decision:\n",
        "\n",
        "a: Número de unidades del producto A producidas.\n",
        "b: Número de unidades del producto B producidas.\n"
      ]
    },
    {
      "cell_type": "code",
      "execution_count": 36,
      "metadata": {
        "colab": {
          "base_uri": "https://localhost:8080/"
        },
        "id": "zeCSlkWJIPkE",
        "outputId": "5ba650f3-13f2-4c10-d1c5-40ce14585661"
      },
      "outputs": [
        {
          "output_type": "stream",
          "name": "stdout",
          "text": [
            "Licensed to AMPL Community Edition License for <alejandro.avilavl@uanl.edu.mx>.\n"
          ]
        }
      ],
      "source": [
        "%pip install -q amplpy\n",
        "from amplpy import AMPL, ampl_notebook, Environment\n",
        "ampl = ampl_notebook(\n",
        "    modules=[\"baron\", \"cplex\"], # pick from over 20 modules including most commercial and open-source solvers\n",
        "    license_uuid=\"5b397525-72ce-4c8e-805c-f16d507f0910\") # your license UUID (e.g., free ampl.com/ce or ampl.com/courses licenses)"
      ]
    },
    {
      "cell_type": "code",
      "execution_count": 47,
      "metadata": {
        "id": "IpMljBVHo5vY"
      },
      "outputs": [],
      "source": [
        "# Crear una instancia de AMPL\n",
        "ampl = AMPL(Environment())"
      ]
    },
    {
      "cell_type": "code",
      "execution_count": 54,
      "metadata": {
        "id": "zU04aOQksvt9"
      },
      "outputs": [],
      "source": [
        "# Escoger el solver apropiado\n",
        "ampl.setOption('solver', 'baron')\n"
      ]
    },
    {
      "cell_type": "code",
      "source": [
        "#Reseteamos el modelo\n",
        "ampl.reset()\n",
        "\n",
        "#Modelamos nuestro problema\n",
        "ampl.eval(\"\"\"\n",
        "# Declaración de las variables\n",
        "var a >= 0; # unidades de A\n",
        "var b >= 0; # unidades de B\n",
        "\n",
        "# Parámetros para los precios\n",
        "param P1;\n",
        "param P2;\n",
        "\n",
        "# Función objetivo\n",
        "maximize Profit: 100*a +0.3*a**2+80*b-0.2*b**2;\n",
        "\n",
        "# Restricciones\n",
        "subject to MachineCapacityA: a <= 80;\n",
        "subject to MachineCapacityB: b <= 60;\n",
        "subject to MaterialSupply: a + b <= 600;\n",
        "subject to Labour: a + 2*b <= 160;\n",
        "\"\"\")"
      ],
      "metadata": {
        "id": "8SLjhtfz1U3f"
      },
      "execution_count": 59,
      "outputs": []
    },
    {
      "cell_type": "code",
      "execution_count": 60,
      "metadata": {
        "colab": {
          "base_uri": "https://localhost:8080/"
        },
        "id": "85moOstF0Dwx",
        "outputId": "633d5a2b-97da-4bb5-df65-5f8c64d2ddee"
      },
      "outputs": [
        {
          "output_type": "stream",
          "name": "stdout",
          "text": [
            "BARON 23.3.11 (2023.03.11): 0 iterations, optimal within tolerances.\n",
            "Objective 12800\n"
          ]
        }
      ],
      "source": [
        "# Resolver el modelo\n",
        "ampl.solve()"
      ]
    },
    {
      "cell_type": "code",
      "execution_count": 61,
      "metadata": {
        "colab": {
          "base_uri": "https://localhost:8080/"
        },
        "id": "476FLJB92Emz",
        "outputId": "a9b1abaf-354e-438f-8a09-cc5c5f201228"
      },
      "outputs": [
        {
          "output_type": "stream",
          "name": "stdout",
          "text": [
            "Cantidad de producto A a producir: 80.0\n",
            "Cantidad de producto B a producir: 40.00000000399989\n",
            "Ganancia total: 12800.000000255994\n"
          ]
        }
      ],
      "source": [
        "# Imprimir la solución\n",
        "print('Cantidad de producto A a producir:', ampl.getVariable('a').value())\n",
        "print('Cantidad de producto B a producir:', ampl.getVariable('b').value())\n",
        "print('Ganancia total:', ampl.getObjective('Profit').value())"
      ]
    }
  ],
  "metadata": {
    "colab": {
      "provenance": []
    },
    "kernelspec": {
      "display_name": "Python 3",
      "name": "python3"
    },
    "language_info": {
      "name": "python"
    }
  },
  "nbformat": 4,
  "nbformat_minor": 0
}